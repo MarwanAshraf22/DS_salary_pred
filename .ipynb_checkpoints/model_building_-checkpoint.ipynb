{
 "cells": [
  {
   "cell_type": "code",
   "execution_count": 1,
   "id": "c180cc2a",
   "metadata": {},
   "outputs": [],
   "source": [
    "import pandas as pd\n",
    "import numpy as np\n",
    "import matplotlib.pyplot as plt\n",
    "import warnings\n",
    "warnings.filterwarnings(\"ignore\")"
   ]
  },
  {
   "cell_type": "code",
   "execution_count": 2,
   "id": "517aa5b7",
   "metadata": {},
   "outputs": [],
   "source": [
    "df = pd.read_csv('eda_data.csv')"
   ]
  },
  {
   "cell_type": "code",
   "execution_count": 3,
   "id": "3e37cd3e",
   "metadata": {},
   "outputs": [],
   "source": [
    "df.head()"
   ]
  },
  {
   "cell_type": "code",
   "execution_count": 4,
   "id": "1a0d6d8a",
   "metadata": {},
   "outputs": [],
   "source": [
    "# choose relevant columns \n",
    "df.columns "
   ]
  },
  {
   "cell_type": "code",
   "execution_count": 5,
   "id": "852bb911",
   "metadata": {},
   "outputs": [],
   "source": [
    "df_model = df[['avg_salary','Rating','Size','Type of ownership','Industry','Sector','Revenue','num_comp','hourly','employer_provided',\n",
    "             'job_state','same_state','age','python_yn','spark','aws','excel','job_simp','seniority','desc_len']]\n",
    "df_model.shape"
   ]
  },
  {
   "cell_type": "code",
   "execution_count": 6,
   "id": "c26d5d27",
   "metadata": {},
   "outputs": [],
   "source": [
    "# Getting dummy data\n",
    "df_dum = pd.get_dummies(df_model)\n",
    "df_dum.shape"
   ]
  },
  {
   "cell_type": "code",
   "execution_count": 7,
   "id": "d5cec988",
   "metadata": {},
   "outputs": [],
   "source": [
    "# Train test split\n",
    "X = df_dum.drop(columns='avg_salary')\n",
    "y = df_dum.avg_salary\n",
    "from sklearn.model_selection import train_test_split\n",
    "X_train, X_test, y_train, y_test = train_test_split(X, y, test_size=0.33, random_state=42)"
   ]
  },
  {
   "cell_type": "code",
   "execution_count": 8,
   "id": "a2941961",
   "metadata": {},
   "outputs": [],
   "source": [
    "from sklearn.preprocessing import StandardScaler\n",
    "st = StandardScaler()\n",
    "X_train = st.fit_transform(X_train)\n",
    "X_test = st.transform(X_test)\n"
   ]
  },
  {
   "cell_type": "code",
   "execution_count": 9,
   "id": "12b9011e",
   "metadata": {},
   "outputs": [],
   "source": [
    "# Multiple linear regression \n",
    "from sklearn.linear_model import LinearRegression,Lasso\n",
    "from sklearn.model_selection import cross_val_score\n",
    "\n",
    "lm = LinearRegression()\n",
    "lm.fit(X_train,y_train)\n",
    "\n",
    "cross_val_score(lm,X_train,y_train,scoring='neg_mean_absolute_error')"
   ]
  },
  {
   "cell_type": "code",
   "execution_count": 10,
   "id": "97ab1c00",
   "metadata": {},
   "outputs": [],
   "source": [
    "lm_l = Lasso()\n",
    "lm_l.fit(X_train,y_train)\n",
    "\n",
    "cross_val_score(lm_l,X_train,y_train,scoring='neg_mean_absolute_error')"
   ]
  },
  {
   "cell_type": "code",
   "execution_count": 11,
   "id": "aa99ea86",
   "metadata": {},
   "outputs": [],
   "source": [
    "from sklearn.ensemble import RandomForestRegressor\n",
    "\n",
    "lm_rf = RandomForestRegressor()\n",
    "lm_rf.fit(X_train,y_train)\n",
    "\n",
    "cross_val_score(lm_rf,X_train,y_train,scoring='neg_mean_absolute_error')"
   ]
  },
  {
   "cell_type": "code",
   "execution_count": 12,
   "id": "c4913318",
   "metadata": {},
   "outputs": [],
   "source": [
    "# Tuning using gridsearch \n",
    "from sklearn.model_selection import RandomizedSearchCV\n",
    "    \n",
    "parameters = {'n_estimators':range(10,300,10), 'criterion':('poisson', 'friedman_mse', 'squared_error', 'absolute_error'), 'max_features':('auto','sqrt','log2')}\n",
    "\n",
    "gs = RandomizedSearchCV(lm_rf,parameters,scoring='neg_mean_absolute_error')\n",
    "gs.fit(X_train,y_train)\n",
    "\n"
   ]
  },
  {
   "cell_type": "code",
   "execution_count": 13,
   "id": "b22237fd",
   "metadata": {},
   "outputs": [],
   "source": [
    "print('Best parameters are : ',gs.best_params_)\n",
    "print('Best score is : ',gs.best_score_)"
   ]
  },
  {
   "cell_type": "code",
   "execution_count": 14,
   "id": "276c8bdd",
   "metadata": {},
   "outputs": [],
   "source": [
    "y_pred_lm = lm.predict(X_test)\n",
    "y_pred_lm_l = lm_l.predict(X_test)\n",
    "y_pred_gs = gs.best_estimator_.predict(X_test)"
   ]
  },
  {
   "cell_type": "code",
   "execution_count": 15,
   "id": "e66aeb28",
   "metadata": {},
   "outputs": [],
   "source": [
    "from sklearn.metrics import mean_absolute_error,accuracy_score\n",
    "print(mean_absolute_error(y_test,y_pred_lm)) # for linear regression\n",
    "print(mean_absolute_error(y_test,y_pred_lm_l)) # for lasso regression\n",
    "print(mean_absolute_error(y_test,y_pred_gs)) # for randomize cv \n"
   ]
  },
  {
   "cell_type": "code",
   "execution_count": 16,
   "id": "c62835df",
   "metadata": {},
   "outputs": [],
   "source": [
    "X_test = pd.DataFrame(X_test)"
   ]
  },
  {
   "cell_type": "code",
   "execution_count": 17,
   "id": "7588cb33",
   "metadata": {},
   "outputs": [],
   "source": [
    "import pickle"
   ]
  },
  {
   "cell_type": "code",
   "execution_count": 18,
   "id": "6032845c",
   "metadata": {},
   "outputs": [],
   "source": [
    "file_name = 'trained_model.sav'\n",
    "pickle.dump(gs, open(file_name,'wb'))\n"
   ]
  },
  {
   "cell_type": "code",
   "execution_count": 19,
   "id": "2bfa0273",
   "metadata": {},
   "outputs": [],
   "source": [
    "#loading model\n",
    "loadin_model = pickle.load(open('trained_model.sav','rb'))"
   ]
  },
  {
   "cell_type": "code",
   "execution_count": 20,
   "id": "8be40972",
   "metadata": {},
   "outputs": [],
   "source": [
    "X_test_df = pd.DataFrame(X_test)\n",
    "input_data = X_test_df.iloc[1,:]\n",
    "input_data = np.asarray(input_data)\n",
    "input_data = input_data.reshape(1,-1)\n",
    "\n",
    "y_pred_gs = loadin_model.best_estimator_.predict(input_data)\n",
    "y_pred_gs"
   ]
  },
  {
   "cell_type": "code",
   "execution_count": null,
   "id": "726f1b78",
   "metadata": {},
   "outputs": [],
   "source": []
  }
 ],
 "metadata": {
  "kernelspec": {
   "display_name": "Python 3 (ipykernel)",
   "language": "python",
   "name": "python3"
  },
  "language_info": {
   "codemirror_mode": {
    "name": "ipython",
    "version": 3
   },
   "file_extension": ".py",
   "mimetype": "text/x-python",
   "name": "python",
   "nbconvert_exporter": "python",
   "pygments_lexer": "ipython3",
   "version": "3.11.3"
  }
 },
 "nbformat": 4,
 "nbformat_minor": 5
}
